{
 "cells": [
  {
   "cell_type": "code",
   "execution_count": 4,
   "id": "9cff4cb9",
   "metadata": {},
   "outputs": [
    {
     "name": "stdout",
     "output_type": "stream",
     "text": [
      "Programa de Marcação de Tempo iniciado.\n",
      "Pressione 'Ctrl' para adicionar uma marcação no tempo.\n",
      "Pressione 'Espaço' para finalizar e ver os resultados.\n",
      "----------------------------------------\n"
     ]
    },
    {
     "ename": "KeyboardInterrupt",
     "evalue": "",
     "output_type": "error",
     "traceback": [
      "\u001b[1;31m---------------------------------------------------------------------------\u001b[0m",
      "\u001b[1;31mKeyboardInterrupt\u001b[0m                         Traceback (most recent call last)",
      "Cell \u001b[1;32mIn[4], line 71\u001b[0m\n\u001b[0;32m     67\u001b[0m \u001b[38;5;66;03m# Loop principal que mantém o programa rodando em segundo plano\u001b[39;00m\n\u001b[0;32m     68\u001b[0m \u001b[38;5;66;03m# Ele só continuará enquanto a variável 'rodando' for True\u001b[39;00m\n\u001b[0;32m     69\u001b[0m \u001b[38;5;28;01mwhile\u001b[39;00m rodando:\n\u001b[0;32m     70\u001b[0m     \u001b[38;5;66;03m# Pequena pausa para evitar que o loop consuma 100% da CPU\u001b[39;00m\n\u001b[1;32m---> 71\u001b[0m     \u001b[43mtime\u001b[49m\u001b[38;5;241;43m.\u001b[39;49m\u001b[43msleep\u001b[49m\u001b[43m(\u001b[49m\u001b[38;5;241;43m0.1\u001b[39;49m\u001b[43m)\u001b[49m\n\u001b[0;32m     73\u001b[0m \u001b[38;5;66;03m# Remove o \"gancho\" do teclado para limpar os recursos\u001b[39;00m\n\u001b[0;32m     74\u001b[0m keyboard\u001b[38;5;241m.\u001b[39munhook_all()\n",
      "\u001b[1;31mKeyboardInterrupt\u001b[0m: "
     ]
    }
   ],
   "source": [
    "import keyboard\n",
    "import time\n",
    "\n",
    "# Lista para armazenar os registros de tempo (timestamps)\n",
    "marcas_de_tempo = []\n",
    "\n",
    "# Variável para controlar o loop principal do programa\n",
    "rodando = True\n",
    "\n",
    "def processar_tecla(evento):\n",
    "    \"\"\"\n",
    "    Esta função é chamada sempre que uma tecla é pressionada.\n",
    "    Ela verifica se a tecla é 'ctrl' ou 'space' e age de acordo.\n",
    "    \"\"\"\n",
    "    global rodando, marcas_de_tempo\n",
    "\n",
    "    # Usamos evento.name para obter o nome da tecla pressionada\n",
    "    if evento.name == 'ctrl':\n",
    "        # Pega o tempo atual com alta precisão\n",
    "        tempo_atual = time.time()\n",
    "        marcas_de_tempo.append(tempo_atual)\n",
    "        print(f\"-> Marcação {len(marcas_de_tempo)} adicionada!\")\n",
    "\n",
    "    elif evento.name == 'space':\n",
    "        print(\"\\nTecla de espaço pressionada. Finalizando o programa...\")\n",
    "        rodando = False\n",
    "\n",
    "def calcular_e_exibir_resultados():\n",
    "    \"\"\"\n",
    "    Calcula os intervalos entre as marcações e o tempo médio.\n",
    "    Exibe um relatório final.\n",
    "    \"\"\"\n",
    "    print(\"\\n--- Relatório Final ---\")\n",
    "    if len(marcas_de_tempo) < 2:\n",
    "        print(\"Não há marcações suficientes para calcular intervalos.\")\n",
    "        return\n",
    "\n",
    "    print(f\"\\nTotal de marcações registradas: {len(marcas_de_tempo)}\")\n",
    "    \n",
    "    # Lista para guardar os intervalos calculados\n",
    "    intervalos = []\n",
    "    print(\"\\nIntervalos entre as marcações (em segundos):\")\n",
    "    \n",
    "    # Itera a partir da segunda marcação para calcular a diferença com a anterior\n",
    "    for i in range(1, len(marcas_de_tempo)):\n",
    "        intervalo = marcas_de_tempo[i] - marcas_de_tempo[i-1]\n",
    "        intervalos.append(intervalo)\n",
    "        print(f\"  Intervalo {i} (entre marcação {i} e {i+1}): {intervalo:.4f} segundos\")\n",
    "\n",
    "    # Calcula o tempo médio dos intervalos\n",
    "    if intervalos:\n",
    "        tempo_medio = sum(intervalos) / len(intervalos)\n",
    "        print(f\"\\nTempo médio dos intervalos: {tempo_medio:.4f} segundos\")\n",
    "    \n",
    "    print(\"\\n--- Fim do Relatório ---\")\n",
    "\n",
    "\n",
    "# --- Início do Programa Principal ---\n",
    "print(\"Programa de Marcação de Tempo iniciado.\")\n",
    "print(\"Pressione 'Ctrl' para adicionar uma marcação no tempo.\")\n",
    "print(\"Pressione 'Espaço' para finalizar e ver os resultados.\")\n",
    "print(\"-\" * 40)\n",
    "\n",
    "# Registra a função 'processar_tecla' para ser chamada a cada tecla pressionada\n",
    "keyboard.on_press(processar_tecla)\n",
    "\n",
    "# Loop principal que mantém o programa rodando em segundo plano\n",
    "# Ele só continuará enquanto a variável 'rodando' for True\n",
    "while rodando:\n",
    "    # Pequena pausa para evitar que o loop consuma 100% da CPU\n",
    "    time.sleep(0.1)\n",
    "\n",
    "# Remove o \"gancho\" do teclado para limpar os recursos\n",
    "keyboard.unhook_all()\n",
    "\n",
    "# Após o loop terminar, exibe os resultados\n",
    "calcular_e_exibir_resultados()"
   ]
  },
  {
   "cell_type": "code",
   "execution_count": null,
   "id": "30235280",
   "metadata": {},
   "outputs": [],
   "source": []
  }
 ],
 "metadata": {
  "kernelspec": {
   "display_name": "Python 3",
   "language": "python",
   "name": "python3"
  },
  "language_info": {
   "codemirror_mode": {
    "name": "ipython",
    "version": 3
   },
   "file_extension": ".py",
   "mimetype": "text/x-python",
   "name": "python",
   "nbconvert_exporter": "python",
   "pygments_lexer": "ipython3",
   "version": "3.12.2"
  }
 },
 "nbformat": 4,
 "nbformat_minor": 5
}
