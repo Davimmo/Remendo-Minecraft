{
 "cells": [
  {
   "cell_type": "code",
   "execution_count": null,
   "id": "1527eee4",
   "metadata": {},
   "outputs": [],
   "source": [
    "from random import randint\n",
    "import matplotlib.pyplot as plt\n",
    "\n",
    "lista = []\n",
    "\n",
    "# Simulação\n",
    "for i in range(10):\n",
    "    tempo = 0\n",
    "    chance_de_troca=randint(1,3)\n",
    "    while numero !=3:\n",
    "        numero = randint(1, 33)\n",
    "        tempo += 5\n",
    "    lista.append(tempo)\n",
    "\n",
    "# Criar bins de 5 em 5 segundos\n",
    "bins = range(0, max(lista) + 5, 5)\n",
    "\n",
    "# Histograma\n",
    "plt.figure(figsize=(10,6))\n",
    "plt.hist(lista, bins=bins, edgecolor='black')\n",
    "plt.title(\"Distribuição dos Tempos até sair o número 33\")\n",
    "plt.xlabel(\"Tempo (segundos)\")\n",
    "plt.ylabel(\"Frequência absoluta\")\n",
    "plt.grid(True, linestyle=\"--\", alpha=0.6)\n",
    "plt.show()\n",
    "\n",
    "\n"
   ]
  },
  {
   "cell_type": "code",
   "execution_count": null,
   "id": "4da90049",
   "metadata": {},
   "outputs": [],
   "source": []
  }
 ],
 "metadata": {
  "kernelspec": {
   "display_name": "Python 3",
   "language": "python",
   "name": "python3"
  },
  "language_info": {
   "codemirror_mode": {
    "name": "ipython",
    "version": 3
   },
   "file_extension": ".py",
   "mimetype": "text/x-python",
   "name": "python",
   "nbconvert_exporter": "python",
   "pygments_lexer": "ipython3",
   "version": "3.12.2"
  }
 },
 "nbformat": 4,
 "nbformat_minor": 5
}
