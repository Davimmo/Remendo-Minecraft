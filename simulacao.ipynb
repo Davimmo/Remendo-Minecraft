{
 "cells": [
  {
   "cell_type": "code",
   "execution_count": 1,
   "id": "51b94cec",
   "metadata": {},
   "outputs": [
    {
     "name": "stdout",
     "output_type": "stream",
     "text": [
      "O tempo MÉDIO para obter o feitiço foi de: 247.36 segundos.\n",
      "O tempo MÁXIMO em 95% dos casos foi de: 736.52 segundos.\n"
     ]
    }
   ],
   "source": [
    "import random\n",
    "import numpy\n",
    "\n",
    "lista=[]\n",
    "\n",
    "for i in range(1_000_000):\n",
    "    tempo = 0\n",
    "    while True: # Loop infinito\n",
    "        # Cada passagem aqui é UMA tentativa\n",
    "        tempo += random.gauss(5, 1) # Adiciona o tempo da tentativa\n",
    "        \n",
    "        numero = random.randint(1, 33)\n",
    "        venda = random.randint(1, 3)\n",
    "        \n",
    "        # Se a tentativa for um sucesso...\n",
    "        if numero == 33 and venda != 3:\n",
    "            break # ... quebra o loop\n",
    "        \n",
    "    lista.append(tempo)\n",
    "\n",
    "# 1. Calcular o Tempo Médio (o que o seu código original fazia)\n",
    "tempo_medio = sum(lista) / len(lista)\n",
    "print(f\"O tempo MÉDIO para obter o feitiço foi de: {tempo_medio:.2f} segundos.\")\n",
    "\n",
    "# 2. Calcular o Tempo Máximo com 95% de Confiança (nosso objetivo)\n",
    "tempo_max_95 = numpy.percentile(lista, 95)\n",
    "print(f\"O tempo MÁXIMO em 95% dos casos foi de: {tempo_max_95:.2f} segundos.\")"
   ]
  }
 ],
 "metadata": {
  "kernelspec": {
   "display_name": "Python 3",
   "language": "python",
   "name": "python3"
  },
  "language_info": {
   "codemirror_mode": {
    "name": "ipython",
    "version": 3
   },
   "file_extension": ".py",
   "mimetype": "text/x-python",
   "name": "python",
   "nbconvert_exporter": "python",
   "pygments_lexer": "ipython3",
   "version": "3.12.2"
  }
 },
 "nbformat": 4,
 "nbformat_minor": 5
}
