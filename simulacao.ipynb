{
 "cells": [
  {
   "cell_type": "code",
   "execution_count": 92,
   "id": "51b94cec",
   "metadata": {},
   "outputs": [
    {
     "name": "stdout",
     "output_type": "stream",
     "text": [
      "O tempo MÉDIO para obter o feitiço foi de: 247.48 segundos.\n",
      "O tempo MÁXIMO em 95% dos casos foi de: 735.37 segundos.\n"
     ]
    }
   ],
   "source": [
    "import random\n",
    "import numpy\n",
    "# Gera um número aleatório com média 5 e desvio padrão 1\n",
    "lista=[]\n",
    "\n",
    "for i in range(1_000_000):\n",
    "    medida = 0\n",
    "    while True: # Loop infinito\n",
    "        # Cada passagem aqui é UMA tentativa\n",
    "        medida += random.gauss(5, 1) # Adiciona o tempo da tentativa\n",
    "        \n",
    "        numero = random.randint(1, 33)\n",
    "        venda = random.randint(1, 3)\n",
    "        \n",
    "        # Se a tentativa for um sucesso...\n",
    "        if numero == 33 and venda != 3:\n",
    "            break # ... quebra o loop\n",
    "        \n",
    "    lista.append(medida)\n",
    "\n",
    "# 1. Calcular o Tempo Médio (o que o seu código original fazia)\n",
    "tempo_medio = sum(lista) / len(lista)\n",
    "print(f\"O tempo MÉDIO para obter o feitiço foi de: {tempo_medio:.2f} segundos.\")\n",
    "\n",
    "# 2. Calcular o Tempo Máximo com 95% de Confiança (nosso objetivo)\n",
    "tempo_max_95 = numpy.percentile(lista, 95)\n",
    "print(f\"O tempo MÁXIMO em 95% dos casos foi de: {tempo_max_95:.2f} segundos.\")"
   ]
  },
  {
   "cell_type": "code",
   "execution_count": null,
   "id": "f4a23cea",
   "metadata": {},
   "outputs": [
    {
     "name": "stdout",
     "output_type": "stream",
     "text": [
      "4.213867655792127\n",
      "4.854255330247468\n",
      "3.9489836470254236\n",
      "4.124226439132959\n",
      "4.404684704178627\n",
      "5.64602076805477\n",
      "5.267107701556627\n",
      "4.46346755901013\n",
      "6.200568084352037\n",
      "3.947677082849899\n"
     ]
    }
   ],
   "source": []
  }
 ],
 "metadata": {
  "kernelspec": {
   "display_name": "Python 3",
   "language": "python",
   "name": "python3"
  },
  "language_info": {
   "codemirror_mode": {
    "name": "ipython",
    "version": 3
   },
   "file_extension": ".py",
   "mimetype": "text/x-python",
   "name": "python",
   "nbconvert_exporter": "python",
   "pygments_lexer": "ipython3",
   "version": "3.12.2"
  }
 },
 "nbformat": 4,
 "nbformat_minor": 5
}
